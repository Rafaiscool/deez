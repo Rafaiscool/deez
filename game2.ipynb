{
 "cells": [
  {
   "cell_type": "markdown",
   "metadata": {},
   "source": [
    "MR.p story 2\n",
    "    \n"
   ]
  },
  {
   "cell_type": "code",
   "execution_count": null,
   "metadata": {},
   "outputs": [],
   "source": [
    "def first_vowel(string_list): #from Uli\n",
    "    for word in string_list:\n",
    "        if word[0] in \"aeiouAEIOU\":\n",
    "            return word.lower() \n",
    "    return \"\""
   ]
  },
  {
   "cell_type": "code",
   "execution_count": null,
   "metadata": {},
   "outputs": [],
   "source": [
    "name=input(\"What's your name?\")\n",
    "cool=first_vowel(name)\n",
    "charname='mr p'+cool"
   ]
  },
  {
   "cell_type": "code",
   "execution_count": null,
   "metadata": {},
   "outputs": [],
   "source": [
    "{\"name\":charname,\"shirtcolor\":'blue'}"
   ]
  },
  {
   "cell_type": "code",
   "execution_count": null,
   "metadata": {},
   "outputs": [],
   "source": [
    "name = \"henry\"\n",
    "game=input(\"who died in last game rafa or henry\").lower()\n",
    "if \"henry\" in game:\n",
    "    name=name.replace(\"rafa\",\"henry\")\n",
    "variable=input(\"mr.p we know youre success with the other monster but now we need youre help with these evil guy named afar hes a ninja but noone has been able to stop him i have multiple suits for you theres ironman suit or a ninja suit/\").lower()\n",
    "if \"ironman\" in variable:\n",
    "    print(\"good choice you can now fly and shoot out of youre hands\")\n",
    "    cool=input(\"joining you in this mission will be rafa last spoting of ninja is in the school but rafa says he knows where hes at a for schoo b for rafa/\").lower()\n",
    "    if \"a\" in cool:\n",
    "        print(\"LETS GO TO THE SCHOOL rafa says. kinda sus if i do say so my self you find a clue it read go to this adress ******** \")\n",
    "    if \"b\" in cool:\n",
    "        print(\"follow rafa to this sus house in the middle of nowhere he tells you look over there and then he he knocks you out you wake up tied up he tells you this. Mr.p, Mr.p ive been plotting this for month and you fell for my trap. im afar im suprised you didnt figure it out since its my name backwards ive been mad at you since you gave me an f in youre classs even when i helped you save the world so now youre going to die.   \")\n",
    "        fight=input(\"Quick you have to choices die or breakout with youre lasers\").lower()\n",
    "        if \"die\" in fight:\n",
    "            print(\"GAME OVER PLEASE TRY AGAIN\")\n",
    "        if \"breakout\" in fight:\n",
    "            print(\"you cut out with ur laser good thing you chose the ironman suit you start fighting rafa\")\n",
    "            final=input(\"hes beating you he too good only way you can beat him is if you do some moves correctly 1 for jump dodge laser blast laser blast or 2 for laser blast jump dodge laser blast\").lower()\n",
    "            if \"1\" in final:\n",
    "                print(\"jumped over his kick dodge his sword and blasted him twice good job you beat him thx again Mr.p hope too see you again soon(credits roll)\")\n",
    "            if \"2\" in final:\n",
    "                print(\"you laser blasted him but he deflected it with his sword and it hit you GAME OVER PLEASE TRY AGAIN\")\n",
    "if \"ninja\" in variable:\n",
    "    print(\"you know what they say fight fire with fire you can now move faster and fight better\")\n",
    "    cool=input('Rafa really wanted to join you but i told him no he got mad and wlked away and started laughing a follow him b go investigate the bad guy').lower()\n",
    "    if \"a\" in cool:\n",
    "        print(\"you followed rafa to his house where you saw him put on a ninja costume Mr.p imma be honest following a kid too his house not very good but apart from that\")\n",
    "        fight=input(\"what would you like too do a ask him what hes doing b push red botton on ur right\").lower()\n",
    "        if \"a\" in fight:\n",
    "            print(\"hey what are you doing you say. rafa looks at you and suddenly a cage drops on you and rafa starts giving you his sad evil backstory blablabla he says hes going to kill you\")\n",
    "            final=input(\"a to die b to esacpe with ur ninja skills\").lower()\n",
    "            if \"a\" in final:\n",
    "                print('GAME OVER PLS TRY AGAIN')\n",
    "            if \"b\" in final:\n",
    "                print(\"you ecape start fighing its preatty even but you are strongr so you beat him good job Mr.p and thx again hope too see you soon\")\n",
    "        if \"b\" in fight:\n",
    "            print(\"i knew pushing it was a ad idea a anvil starts falling but youre a ninja so you move out of the way\")\n",
    "            final=input(\"a ask why hes trying too kill you b argue and scream at him\").lower()\n",
    "            if \"a\" in final:\n",
    "                print(\"he says he mad because he helped you save the world and you still gave him and f\")\n",
    "                now=input(\"a lie to him tell him t was an accdent b tell truth and tell him he sucks\").lower()\n",
    "                if \"a\" in now:\n",
    "                    print(\"rafa apploigezez and says thank you good job mr>p you won hope to see you soon\")\n",
    "                if \"b\" in now:\n",
    "                    print(\"he throws sowrd at you and you die GAME OVER PLS TRY AGAIN\")\n",
    "            if \"b\" in final:\n",
    "                print(\"he let anaother anvil go and this time it hit you GAME OVER PLS TR AGAIN\")\n",
    "    if \"b\" in cool:\n",
    "        print(\"yeah probly better not too follow kids home\")\n",
    "        tolate=input(\" a to go to to ur house b to go get coffe\").lower()\n",
    "        if \"a\" in tolate:\n",
    "            print(\"you go home call it a night watch the news and you see the police have already cought afar and youre supried too see it was rafa all along anyways you were too late loser quit when there tired winner quit when they won and today you where a loser GAME OVER PLS TRY AGAIN\")\n",
    "        if \"b\" in tolate:\n",
    "            print(\"you go too the coffe shop call it a night watch the news and you see the police have already cought afar and youre supried too see it was rafa all along anyways you were too late loser quit when there tired winner quit when they won and today you where a loser GAME OVER PLS TRY AGAIN \")"
   ]
  },
  {
   "cell_type": "code",
   "execution_count": null,
   "metadata": {},
   "outputs": [],
   "source": [
    "def first_vowel(string_list): #from Uli\n",
    "    for word in string_list:\n",
    "        if word[0] in \"aeiouAEIOU\":\n",
    "            return word.lower() \n",
    "    return \"\""
   ]
  },
  {
   "cell_type": "code",
   "execution_count": null,
   "metadata": {},
   "outputs": [],
   "source": [
    "first_vowel(\"rafa\")"
   ]
  },
  {
   "cell_type": "code",
   "execution_count": null,
   "metadata": {},
   "outputs": [],
   "source": [
    "name=input(\"What's your name?\")\n",
    "cool=first_vowel(name)\n",
    "charname='mr p'+cool"
   ]
  },
  {
   "cell_type": "code",
   "execution_count": null,
   "metadata": {},
   "outputs": [],
   "source": [
    "print('a sentence about mr p who is super cool')\n",
    "print('a sentence about mr p who is super cool')"
   ]
  },
  {
   "cell_type": "code",
   "execution_count": null,
   "metadata": {},
   "outputs": [],
   "source": []
  }
 ],
 "metadata": {
  "kernelspec": {
   "display_name": "Python 3",
   "language": "python",
   "name": "python3"
  },
  "language_info": {
   "codemirror_mode": {
    "name": "ipython",
    "version": 3
   },
   "file_extension": ".py",
   "mimetype": "text/x-python",
   "name": "python",
   "nbconvert_exporter": "python",
   "pygments_lexer": "ipython3",
   "version": "3.7.6"
  }
 },
 "nbformat": 4,
 "nbformat_minor": 4
}
